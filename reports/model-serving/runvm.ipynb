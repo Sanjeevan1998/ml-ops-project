{
 "cells": [
  {
   "cell_type": "code",
   "execution_count": null,
   "id": "75deb85f-1633-494d-9d87-cfa10b09bcfb",
   "metadata": {
    "tags": []
   },
   "outputs": [
    {
     "name": "stdout",
     "output_type": "stream",
     "text": [
      "Attempting to select project...\n"
     ]
    },
    {
     "data": {
      "application/vnd.jupyter.widget-view+json": {
       "model_id": "73e1c57ae3c245adb55af81b4b53d671",
       "version_major": 2,
       "version_minor": 0
      },
      "text/plain": [
       "VBox(children=(Dropdown(description='Select Project', options=('CHI-251409',), value='CHI-251409'), Output()))"
      ]
     },
     "metadata": {},
     "output_type": "display_data"
    },
    {
     "name": "stdout",
     "output_type": "stream",
     "text": [
      "Project context selection attempted.\n",
      "Attempting to select site (defaulting to KVM@TACC)...\n"
     ]
    },
    {
     "data": {
      "application/vnd.jupyter.widget-view+json": {
       "model_id": "81411ee168934bd3a58e9ebb1f0cf7d8",
       "version_major": 2,
       "version_minor": 0
      },
      "text/plain": [
       "VBox(children=(Dropdown(description='Select Site', index=7, options=('CHI@TACC', 'CHI@UC', 'CHI@EVL', 'CHI@NCA…"
      ]
     },
     "metadata": {},
     "output_type": "display_data"
    },
    {
     "name": "stdout",
     "output_type": "stream",
     "text": [
      "Site context selection attempted (KVM@TACC as default).\n",
      "Proceeding with configuration. Will use key pair named: 'project36_key'\n",
      "NOTE: Key pair existence check was skipped due to library errors.\n"
     ]
    }
   ],
   "source": [
    "\n",
    "import chi, os, time\n",
    "from chi import server, context\n",
    "from chi import network # Still needed for floating IP\n",
    "\n",
    "PROJECT_NUMBER = 36 \n",
    "SHARED_KEY_NAME = \"project36_key\"\n",
    "# --- ===------------------------------------=== ---\n",
    "\n",
    "\n",
    "try:\n",
    "    print(\"Attempting to select project...\")\n",
    "    context.choose_project()\n",
    "    \n",
    "    print(\"Project context selection attempted.\")\n",
    "except Exception as e:\n",
    "    print(f\"Error during project selection: {e}\")\n",
    "    print(\"Please ensure you have access to at least one project.\")\n",
    "    assert False, \"Project selection failed.\"\n",
    "\n",
    "try:\n",
    "    print(\"Attempting to select site (defaulting to KVM@TACC)...\")\n",
    "    context.choose_site(default=\"KVM@TACC\")\n",
    "    print(\"Site context selection attempted (KVM@TACC as default).\")\n",
    "except Exception as e:\n",
    "     print(f\"Error setting site context: {e}\")\n",
    "     print(\"Attempting interactive site choice...\")\n",
    "     try:\n",
    "         context.choose_site() # Fallback to interactive choice\n",
    "         print(\"Site selected interactively.\")\n",
    "     except Exception as e2:\n",
    "         print(f\"Interactive site selection failed: {e2}\")\n",
    "         assert False, \"Site selection failed.\"\n",
    "\n",
    "print(f\"Proceeding with configuration. Will use key pair named: '{SHARED_KEY_NAME}'\")\n",
    "print(\"NOTE: Key pair existence check was skipped due to library errors.\")"
   ]
  },
  {
   "cell_type": "code",
   "execution_count": null,
   "id": "8ccfc2df-53be-4376-beb4-6d4d9d3bbcbe",
   "metadata": {
    "tags": []
   },
   "outputs": [
    {
     "name": "stdout",
     "output_type": "stream",
     "text": [
      "VM Configuration:\n",
      "  Name: legalsearch-dummy-vm-for-modelserving-project36\n",
      "  Image: CC-Ubuntu22.04\n",
      "  Flavor: m1.large\n",
      "  Key Pair: project36_key\n"
     ]
    }
   ],
   "source": [
    "# VM Configuration\n",
    "VM_NAME = f\"legalsearch-dummy-vm-for-modelserving-project{PROJECT_NUMBER}\" # Adheres to naming convention\n",
    "IMAGE_NAME = \"CC-Ubuntu22.04\" # Standard Ubuntu 22.04 image\n",
    "FLAVOR_NAME = \"m1.large\" \n",
    "\n",
    "print(f\"VM Configuration:\")\n",
    "print(f\"  Name: {VM_NAME}\")\n",
    "print(f\"  Image: {IMAGE_NAME}\")\n",
    "print(f\"  Flavor: {FLAVOR_NAME}\")\n",
    "print(f\"  Key Pair: {SHARED_KEY_NAME}\")"
   ]
  },
  {
   "cell_type": "code",
   "execution_count": null,
   "id": "9299ad5f-4540-4969-88b1-ccec097623e1",
   "metadata": {
    "tags": []
   },
   "outputs": [
    {
     "name": "stdout",
     "output_type": "stream",
     "text": [
      "Initializing server object for: legalsearch-dummy-vm-for-modelserving-project36\n",
      "Submitting server request (idempotent=True)...\n",
      "Waiting for server legalsearch-dummy-vm-for-modelserving-project36's status to become ACTIVE. This typically takes 10 minutes, but can take up to 20 minutes.\n"
     ]
    },
    {
     "data": {
      "application/vnd.jupyter.widget-view+json": {
       "model_id": "94bf41f288bf450ea29c06677b8bc29c",
       "version_major": 2,
       "version_minor": 0
      },
      "text/plain": [
       "HBox(children=(Label(value=''), IntProgress(value=0, bar_style='success')))"
      ]
     },
     "metadata": {},
     "output_type": "display_data"
    },
    {
     "name": "stdout",
     "output_type": "stream",
     "text": [
      "Server has moved to status ACTIVE\n"
     ]
    },
    {
     "data": {
      "text/html": [
       "<table style='border-collapse: collapse; width: 100%;'><tr style='background-color: #f2f2f2;'><th style='border: 1px solid #ddd; padding: 8px;'>Attribute</th><th style='border: 1px solid #ddd; padding: 8px;'>legalsearch-dummy-vm-for-modelserving-project36</th></tr><tr><td style='border: 1px solid #ddd; padding: 8px;'>Id</td><td style='border: 1px solid #ddd; padding: 8px;'>d63eca33-562f-41fc-a628-44605f399f4e</td></tr><tr><td style='border: 1px solid #ddd; padding: 8px;'>Status</td><td style='border: 1px solid #ddd; padding: 8px;'>ACTIVE</td></tr><tr><td style='border: 1px solid #ddd; padding: 8px;'>Image Name</td><td style='border: 1px solid #ddd; padding: 8px;'>CC-Ubuntu22.04</td></tr><tr><td style='border: 1px solid #ddd; padding: 8px;'>Flavor Name</td><td style='border: 1px solid #ddd; padding: 8px;'>m1.large</td></tr><tr><td style='border: 1px solid #ddd; padding: 8px;'>Addresses</td><td style='border: 1px solid #ddd; padding: 8px;'><strong>sharednet1:</strong><br>&nbsp;&nbsp;IP: 10.56.0.242 (v4)<br>&nbsp;&nbsp;Type: fixed<br>&nbsp;&nbsp;MAC: fa:16:3e:14:72:4f<br></td></tr><tr><td style='border: 1px solid #ddd; padding: 8px;'>Network Name</td><td style='border: 1px solid #ddd; padding: 8px;'>sharednet1</td></tr><tr><td style='border: 1px solid #ddd; padding: 8px;'>Created At</td><td style='border: 1px solid #ddd; padding: 8px;'>2025-05-10T19:48:21Z</td></tr><tr><td style='border: 1px solid #ddd; padding: 8px;'>Keypair</td><td style='border: 1px solid #ddd; padding: 8px;'>project36_key</td></tr><tr><td style='border: 1px solid #ddd; padding: 8px;'>Reservation Id</td><td style='border: 1px solid #ddd; padding: 8px;'>None</td></tr><tr><td style='border: 1px solid #ddd; padding: 8px;'>Host Id</td><td style='border: 1px solid #ddd; padding: 8px;'>4f8e0835c495f995792aecd839e934f9dd1201938fdb2269b5562782</td></tr><tr><td style='border: 1px solid #ddd; padding: 8px;'>Host Status</td><td style='border: 1px solid #ddd; padding: 8px;'>None</td></tr><tr><td style='border: 1px solid #ddd; padding: 8px;'>Hypervisor Hostname</td><td style='border: 1px solid #ddd; padding: 8px;'>None</td></tr><tr><td style='border: 1px solid #ddd; padding: 8px;'>Is Locked</td><td style='border: 1px solid #ddd; padding: 8px;'>False</td></tr></table>"
      ],
      "text/plain": [
       "<IPython.core.display.HTML object>"
      ]
     },
     "metadata": {},
     "output_type": "display_data"
    },
    {
     "name": "stdout",
     "output_type": "stream",
     "text": [
      "Server legalsearch-dummy-vm-for-modelserving-project36 (d63eca33-562f-41fc-a628-44605f399f4e) is ACTIVE.\n",
      "\n",
      "Proceeding with server object for legalsearch-dummy-vm-for-modelserving-project36 (d63eca33-562f-41fc-a628-44605f399f4e)\n"
     ]
    }
   ],
   "source": [
    "\n",
    "print(f\"Initializing server object for: {VM_NAME}\")\n",
    "s = server.Server(\n",
    "    VM_NAME,\n",
    "    image_name=IMAGE_NAME,\n",
    "    flavor_name=FLAVOR_NAME,\n",
    "    key_name=SHARED_KEY_NAME\n",
    ")\n",
    "\n",
    "print(f\"Submitting server request (idempotent=True)...\")\n",
    "try:\n",
    "    s.submit(idempotent=True, wait=True)\n",
    "    print(f\"Server {s.name} ({s.id}) is ACTIVE.\")\n",
    "except Exception as e:\n",
    "    print(f\"Error submitting/waiting for server {VM_NAME}: {e}\")\n",
    "    try:\n",
    "        s_check = server.get_server(VM_NAME)\n",
    "        if s_check:\n",
    "             s = s_check \n",
    "             print(f\"Retrieved existing server {s.name} ({s.id}), Status: {s.status}\")\n",
    "             if s.status != 'ACTIVE':\n",
    "                 print(\"Server exists but is not ACTIVE. Manual intervention might be needed via Chameleon UI.\")\n",
    "                 print(\"Attempting to wait for ACTIVE state again...\")\n",
    "                 server.wait_for_active(s.id) \n",
    "                 s.refresh() \n",
    "                 print(f\"Server {s.name} is now {s.status}\")\n",
    "\n",
    "        else:\n",
    "             print(f\"Server {VM_NAME} could not be created or found.\")\n",
    "    except Exception as e2:\n",
    "        print(f\"Failed to retrieve server after error: {e2}\")\n",
    "\n",
    "if 's' not in locals() or not hasattr(s, 'id') or not s.id:\n",
    "    print(\"\\nFATAL: Server object 's' is not valid. Cannot proceed.\")\n",
    "    assert False, \"Server object invalid, stopping notebook execution.\"\n",
    "else:\n",
    "    print(f\"\\nProceeding with server object for {s.name} ({s.id})\")"
   ]
  },
  {
   "cell_type": "code",
   "execution_count": null,
   "id": "f4739710-08cf-4647-9e67-5b3956f6ae87",
   "metadata": {
    "tags": []
   },
   "outputs": [
    {
     "name": "stdout",
     "output_type": "stream",
     "text": [
      "Attempting to associate Floating IP with legalsearch-dummy-vm-for-modelserving-project36 (d63eca33-562f-41fc-a628-44605f399f4e)...\n",
      "Association command sent. Refreshing server state...\n",
      "Server state refreshed. Checking connectivity (can take up to 3 mins)...\n",
      "Checking connectivity to 129.114.24.228 port 22.\n"
     ]
    },
    {
     "data": {
      "application/vnd.jupyter.widget-view+json": {
       "model_id": "20b1cf06f87b4b8cbeb5946fb9c36c01",
       "version_major": 2,
       "version_minor": 0
      },
      "text/plain": [
       "HBox(children=(Label(value=''), IntProgress(value=0, bar_style='success')))"
      ]
     },
     "metadata": {},
     "output_type": "display_data"
    },
    {
     "name": "stdout",
     "output_type": "stream",
     "text": [
      "Connection successful\n",
      "Connectivity check to legalsearch-dummy-vm-for-modelserving-project36 successful!\n",
      "\n",
      "========================================\n",
      "ACTION REQUIRED:\n",
      "Floating IP associated successfully.\n",
      "Run the NEXT cell (s.refresh() and s.show()) to view server details.\n",
      "Look for the Floating IP address listed under 'Addresses' in the output.\n",
      "You will need to MANUALLY COPY this IP for the SSH command.\n",
      "========================================\n",
      "\n",
      "\n",
      "========================================\n",
      "SSH Command Template (Replace <VM_FLOATING_IP> manually):\n",
      "ssh -i ~/.ssh/project36_key cc@<VM_FLOATING_IP>\n",
      "========================================\n",
      "\n"
     ]
    }
   ],
   "source": [
    "\n",
    "if 's' in locals() and hasattr(s, 'id') and s.id:\n",
    "    try:\n",
    "        print(f\"Attempting to associate Floating IP with {s.name} ({s.id})...\")\n",
    "        s.associate_floating_ip()\n",
    "        print(\"Association command sent. Refreshing server state...\")\n",
    "        # Refresh the server object to update its internal state\n",
    "        s.refresh()\n",
    "        print(\"Server state refreshed. Checking connectivity (can take up to 3 mins)...\")\n",
    "        # Check connectivity - this should implicitly use the associated IP now\n",
    "        s.check_connectivity(timeout=180)\n",
    "        print(f\"Connectivity check to {s.name} successful!\")\n",
    "\n",
    "        # --- User Action Required ---\n",
    "        print(\"\\n\" + \"=\"*40)\n",
    "        print(\"ACTION REQUIRED:\")\n",
    "        print(\"Floating IP associated successfully.\")\n",
    "        print(\"Run the NEXT cell (s.refresh() and s.show()) to view server details.\")\n",
    "        print(\"Look for the Floating IP address listed under 'Addresses' in the output.\")\n",
    "        print(\"You will need to MANUALLY COPY this IP for the SSH command.\")\n",
    "        print(\"=\"*40 + \"\\n\")\n",
    "        # We set a flag indicating success for the next step's printout\n",
    "        floating_ip_associated_flag = True\n",
    "\n",
    "    except Exception as e:\n",
    "        print(f\"\\nAn error occurred during Floating IP association or connectivity check: {e}\")\n",
    "        print(\"Please check the Chameleon UI (Horizon) to see if an IP was associated manually.\")\n",
    "        floating_ip_associated_flag = False\n",
    "\n",
    "else:\n",
    "    print(\"Cannot associate Floating IP: Server object 's' not found or invalid from previous step.\")\n",
    "    floating_ip_associated_flag = False\n",
    "\n",
    "# Print placeholder SSH command - USER MUST REPLACE <VM_FLOATING_IP>\n",
    "print(\"\\n\" + \"=\"*40)\n",
    "print(f\"SSH Command Template (Replace <VM_FLOATING_IP> manually):\")\n",
    "print(f\"ssh -i ~/.ssh/project{PROJECT_NUMBER}_key cc@<VM_FLOATING_IP>\")\n",
    "print(\"=\"*40 + \"\\n\")\n",
    "\n",
    "if not floating_ip_associated_flag:\n",
    "    print(\"WARNING: Floating IP association or connectivity check failed. SSH might not work.\")"
   ]
  },
  {
   "cell_type": "code",
   "execution_count": null,
   "id": "b0ca4809-d559-4c67-8c84-a25549d7c877",
   "metadata": {
    "tags": []
   },
   "outputs": [
    {
     "name": "stdout",
     "output_type": "stream",
     "text": [
      "Ensuring security groups for VM: legalsearch-dummy-vm-for-modelserving-project36 (d63eca33-562f-41fc-a628-44605f399f4e)\n",
      "Attempting to attach 'default' security group...\n",
      "'default' group was already attached or add attempt failed benignly.\n",
      "Security group 'allow-ssh-project36' already exists.\n",
      "Ensuring rule for port 22 in allow-ssh-project36...\n",
      "Rule for port 22 already exists.\n",
      "Attaching security group 'allow-ssh-project36' to legalsearch-dummy-vm-for-modelserving-project36\n",
      "Successfully ensured group 'allow-ssh-project36' is attached.\n",
      "Security group 'allow-8000-fastapi-project36' already exists.\n",
      "Ensuring rule for port 8000 in allow-8000-fastapi-project36...\n",
      "Rule for port 8000 already exists.\n",
      "Attaching security group 'allow-8000-fastapi-project36' to legalsearch-dummy-vm-for-modelserving-project36\n",
      "Successfully ensured group 'allow-8000-fastapi-project36' is attached.\n",
      "\n",
      "Attempting to list final attached security groups...\n",
      "Unexpected format returned by list_security_group: <class 'novaclient.base.ListWithMeta'>\n",
      "\n",
      "Security group configuration finished.\n"
     ]
    }
   ],
   "source": [
    "\n",
    "\n",
    "# Check if the variable 's' exists and represents a valid server object\n",
    "if 's' in locals() and hasattr(s, 'id') and s.id:\n",
    "    # Define the security groups needed\n",
    "    security_groups_to_ensure = [\n",
    "      {'name': f\"allow-ssh-project{PROJECT_NUMBER}\", 'port': 22, 'description': f\"Enable SSH traffic (Project {PROJECT_NUMBER})\"},\n",
    "      {'name': f\"allow-8000-fastapi-project{PROJECT_NUMBER}\", 'port': 8000, 'description': f\"Enable FastAPI TCP port 8000 (Project {PROJECT_NUMBER})\"},\n",
    "    ]\n",
    "\n",
    "    print(f\"Ensuring security groups for VM: {s.name} ({s.id})\")\n",
    "    os_conn = chi.clients.connection()\n",
    "    try:\n",
    "        nova_server = chi.nova().servers.get(s.id)\n",
    "    except Exception as e:\n",
    "        print(f\"Error: Could not get Nova server object for ID {s.id}: {e}\")\n",
    "        nova_server = None\n",
    "\n",
    "    if nova_server:\n",
    "        try:\n",
    "            print(\"Attempting to attach 'default' security group...\")\n",
    "            nova_server.add_security_group(\"default\")\n",
    "            print(\"Ensured 'default' security group is attached.\")\n",
    "        except Exception as e:\n",
    "             err_str = str(e).lower()\n",
    "             # Check for specific 400 Duplicate error or other common 'already present' variations\n",
    "             if (\"http 400\" in err_str and \"duplicate\" in err_str) or \\\n",
    "                \"already present\" in err_str or \\\n",
    "                \"is already a member\" in err_str or \\\n",
    "                (\"security group\" in err_str and \"is already associated\" in err_str):\n",
    "                 print(\"'default' group was already attached or add attempt failed benignly.\")\n",
    "             else:\n",
    "                 print(f\"Warning: Could not ensure default security group attachment: {e}\")\n",
    "\n",
    "        for sg_info in security_groups_to_ensure:\n",
    "            sg_name = sg_info['name']\n",
    "            try:\n",
    "                sg = os_conn.get_security_group(sg_name)\n",
    "                if not sg:\n",
    "                    print(f\"Creating security group: {sg_name}\")\n",
    "                    sg = os_conn.create_security_group(name=sg_name, description=sg_info['description'])\n",
    "                    if not sg:\n",
    "                         print(f\"Error: Failed to get group object immediately after creation for {sg_name}\")\n",
    "\n",
    "                else:\n",
    "                    print(f\"Security group '{sg_name}' already exists.\")\n",
    "\n",
    "                \n",
    "                try:\n",
    "                    print(f\"Ensuring rule for port {sg_info['port']} in {sg_name}...\")\n",
    "                    os_conn.create_security_group_rule(\n",
    "                        sg_name, # Use group NAME here\n",
    "                        port_range_min=sg_info['port'],\n",
    "                        port_range_max=sg_info['port'],\n",
    "                        protocol='tcp',\n",
    "                        direction='ingress',\n",
    "                        ethertype='IPv4',\n",
    "                        remote_ip_prefix='0.0.0.0/0'\n",
    "                    )\n",
    "                    print(f\"Rule for port {sg_info['port']} ensured.\")\n",
    "                except Exception as e_rule:\n",
    "                    err_str_rule = str(e_rule).lower()\n",
    "                    if \"security group rule already exists\" in err_str_rule or \"duplicate rule exists\" in err_str_rule:\n",
    "                        print(f\"Rule for port {sg_info['port']} already exists.\")\n",
    "                    else:\n",
    "                        print(f\"Warning: Checking/creating rule for port {sg_info['port']} failed: {e_rule}\")\n",
    "\n",
    "\n",
    "                try:\n",
    "                    print(f\"Attaching security group '{sg_name}' to {s.name}\")\n",
    "                    nova_server.add_security_group(sg_name) # Use name for nova add\n",
    "                    print(f\"Successfully ensured group '{sg_name}' is attached.\")\n",
    "                except Exception as e_add:\n",
    "                     err_str_add = str(e_add).lower()\n",
    "                     if \"already present\" in err_str_add or \"is already a member\" in err_str_add or (\"security group\" in err_str_add and \"is already associated\" in err_str_add):\n",
    "                         print(f\"Group '{sg_name}' was already attached.\")\n",
    "                     else:\n",
    "                          print(f\"Error attaching security group {sg_name}: {e_add}\")\n",
    "\n",
    "            except Exception as e_outer:\n",
    "                 print(f\"Outer error managing security group {sg_name}: {e_outer}\")\n",
    "\n",
    "\n",
    "        time.sleep(2)\n",
    "        try:\n",
    "            print(\"\\nAttempting to list final attached security groups...\")\n",
    "            nova_server = chi.nova().servers.get(s.id)\n",
    "            final_groups = nova_server.list_security_group()\n",
    "            if isinstance(final_groups, list) and all(isinstance(g, dict) for g in final_groups):\n",
    "                 print(f\"Final security groups attached to {s.name}: {[g.get('name', 'N/A') for g in final_groups]}\")\n",
    "            else:\n",
    "                 print(f\"Unexpected format returned by list_security_group: {type(final_groups)}\")\n",
    "        except AttributeError:\n",
    "             print(\"Error: nova_server.list_security_group() method not found. Skipping list.\")\n",
    "        except Exception as e_list:\n",
    "            print(f\"Could not list final security groups: {e_list}\")\n",
    "\n",
    "        print(\"\\nSecurity group configuration finished.\")\n",
    "\n",
    "    else:\n",
    "        print(\"Cannot configure security groups: Failed to get Nova server object.\")\n",
    "\n",
    "else:\n",
    "    print(\"Cannot configure security groups: Server object 's' not found or invalid.\")"
   ]
  },
  {
   "cell_type": "code",
   "execution_count": null,
   "id": "47c75808-f6d7-4e33-a22d-51f5e9582aec",
   "metadata": {
    "tags": []
   },
   "outputs": [
    {
     "name": "stdout",
     "output_type": "stream",
     "text": [
      "Ensuring Monitoring security groups for VM: legalsearch-dummy-vm-for-modelserving-project36 (d63eca33-562f-41fc-a628-44605f399f4e)\n",
      "Security group 'allow-9090-prometheus-project36' already exists.\n",
      "Ensuring rule for port 9090 in allow-9090-prometheus-project36...\n",
      "Rule for port 9090 already exists.\n",
      "Attaching security group 'allow-9090-prometheus-project36' to legalsearch-dummy-vm-for-modelserving-project36\n",
      "Successfully ensured group 'allow-9090-prometheus-project36' is attached.\n",
      "Security group 'allow-3000-grafana-project36' already exists.\n",
      "Ensuring rule for port 3000 in allow-3000-grafana-project36...\n",
      "Rule for port 3000 already exists.\n",
      "Attaching security group 'allow-3000-grafana-project36' to legalsearch-dummy-vm-for-modelserving-project36\n",
      "Successfully ensured group 'allow-3000-grafana-project36' is attached.\n",
      "\n",
      "Monitoring security group configuration finished.\n"
     ]
    }
   ],
   "source": [
    "if 's' in locals() and hasattr(s, 'id') and s.id:\n",
    "    monitoring_ports_to_ensure = [\n",
    "      {'name': f\"allow-9090-prometheus-project{PROJECT_NUMBER}\", 'port': 9090, 'description': f\"Enable Prometheus TCP port 9090 (Project {PROJECT_NUMBER})\"},\n",
    "      {'name': f\"allow-3000-grafana-project{PROJECT_NUMBER}\", 'port': 3000, 'description': f\"Enable Grafana TCP port 3000 (Project {PROJECT_NUMBER})\"},\n",
    "    ]\n",
    "\n",
    "    print(f\"Ensuring Monitoring security groups for VM: {s.name} ({s.id})\")\n",
    "    os_conn = chi.clients.connection()\n",
    "    try:\n",
    "        nova_server = chi.nova().servers.get(s.id)\n",
    "    except Exception as e:\n",
    "        print(f\"Error: Could not get Nova server object for ID {s.id}: {e}\")\n",
    "        nova_server = None\n",
    "\n",
    "    if nova_server:\n",
    "        for sg_info in monitoring_ports_to_ensure:\n",
    "            sg_name = sg_info['name']\n",
    "            try:\n",
    "                sg = os_conn.get_security_group(sg_name)\n",
    "                if not sg:\n",
    "                    print(f\"Creating security group: {sg_name}\")\n",
    "                    sg = os_conn.create_security_group(name=sg_name, description=sg_info['description'])\n",
    "                    if not sg:\n",
    "                         print(f\"Error: Failed to get group object immediately after creation for {sg_name}\")\n",
    "                         continue\n",
    "                else:\n",
    "                    print(f\"Security group '{sg_name}' already exists.\")\n",
    "\n",
    "                try:\n",
    "                    print(f\"Ensuring rule for port {sg_info['port']} in {sg_name}...\")\n",
    "                    os_conn.create_security_group_rule(\n",
    "                        sg_name, \n",
    "                        port_range_min=sg_info['port'],\n",
    "                        port_range_max=sg_info['port'], protocol='tcp', direction='ingress',\n",
    "                        ethertype='IPv4', remote_ip_prefix='0.0.0.0/0'\n",
    "                    )\n",
    "                    print(f\"Rule for port {sg_info['port']} ensured.\")\n",
    "                except Exception as e_rule:\n",
    "                    err_str_rule = str(e_rule).lower()\n",
    "                    if \"security group rule already exists\" in err_str_rule or \"duplicate rule exists\" in err_str_rule:\n",
    "                        print(f\"Rule for port {sg_info['port']} already exists.\")\n",
    "                    else: print(f\"Warning: Checking/creating rule for port {sg_info['port']} failed: {e_rule}\")\n",
    "\n",
    "                try:\n",
    "                    print(f\"Attaching security group '{sg_name}' to {s.name}\")\n",
    "                    nova_server.add_security_group(sg_name)\n",
    "                    print(f\"Successfully ensured group '{sg_name}' is attached.\")\n",
    "                except Exception as e_add:\n",
    "                     err_str_add = str(e_add).lower()\n",
    "                     if \"already present\" in err_str_add or \"is already a member\" in err_str_add or (\"security group\" in err_str_add and \"is already associated\" in err_str_add):\n",
    "                         print(f\"Group '{sg_name}' was already attached.\")\n",
    "                     else: print(f\"Error attaching security group {sg_name}: {e_add}\")\n",
    "\n",
    "            except Exception as e_outer:\n",
    "                 print(f\"Outer error managing security group {sg_name}: {e_outer}\")\n",
    "\n",
    "        print(\"\\nMonitoring security group configuration finished.\")\n",
    "      \n",
    "    else: print(\"Cannot configure security groups: Failed to get Nova server object.\")\n",
    "else: print(\"Cannot configure security groups: Server object 's' not found or invalid.\")"
   ]
  },
  {
   "cell_type": "code",
   "execution_count": 15,
   "id": "4488d650-4c82-4be4-ba21-66bca037f9e9",
   "metadata": {
    "tags": []
   },
   "outputs": [],
   "source": [
    "#AFTER EVERYTHING IS DONE, NOW WE SHUT IT ALL DOWN"
   ]
  },
  {
   "cell_type": "code",
   "execution_count": null,
   "id": "2de699e7-8db4-4e4b-8e74-f66c6c2a0add",
   "metadata": {},
   "outputs": [],
   "source": []
  },
  {
   "cell_type": "code",
   "execution_count": 16,
   "id": "1a26bea9-64c9-429e-acf6-8f7bb5bf942c",
   "metadata": {
    "tags": []
   },
   "outputs": [
    {
     "name": "stdout",
     "output_type": "stream",
     "text": [
      "Terminating VM: legalsearch-dummy-vm-for-modelserving-project36 (933b74c6-c0d8-41ef-a433-8e5a5d615ee2)...\n",
      "Deletion request sent for legalsearch-dummy-vm-for-modelserving-project36.\n"
     ]
    }
   ],
   "source": [
    "# CELL 9: Terminate the VM\n",
    "\n",
    "# Check if 's' exists and is valid\n",
    "if 's' in locals() and hasattr(s, 'id') and s.id:\n",
    "    # Verify the object still points to the correct server if kernel restarted\n",
    "    try:\n",
    "        # Refresh just in case\n",
    "        s.refresh()\n",
    "        vm_id_to_delete = s.id\n",
    "        vm_name_to_delete = s.name\n",
    "        print(f\"Terminating VM: {vm_name_to_delete} ({vm_id_to_delete})...\")\n",
    "        try:\n",
    "            s.delete() # Use the object's delete method\n",
    "            print(f\"Deletion request sent for {vm_name_to_delete}.\")\n",
    "            # Clear the variable to prevent accidental reuse\n",
    "            del s\n",
    "        except Exception as e:\n",
    "            print(f\"Error deleting server {vm_name_to_delete}: {e}\")\n",
    "            print(\"You may need to delete it manually via the Chameleon Web UI.\")\n",
    "\n",
    "    except Exception as e_refresh:\n",
    "        print(f\"Could not refresh server object 's', trying to find by name: {VM_NAME}\")\n",
    "        # Fallback if 's' object is stale - requires VM_NAME to be defined correctly\n",
    "        if 'VM_NAME' in locals():\n",
    "             try:\n",
    "                 instance_to_delete = server.get_server(VM_NAME)\n",
    "                 if instance_to_delete:\n",
    "                     print(f\"Found VM by name. Terminating {VM_NAME} ({instance_to_delete.id})...\")\n",
    "                     server.delete_server(instance_to_delete.id)\n",
    "                     print(f\"Deletion request sent for {VM_NAME}.\")\n",
    "                 else:\n",
    "                     print(f\"Could not find server named {VM_NAME} to delete.\")\n",
    "             except Exception as e_get_del:\n",
    "                  print(f\"Error finding/deleting server by name {VM_NAME}: {e_get_del}\")\n",
    "        else:\n",
    "             print(\"VM_NAME variable not defined, cannot fallback to delete by name.\")\n",
    "\n",
    "else:\n",
    "    print(\"Server object 's' not found or invalid. Cannot terminate VM via script.\")\n",
    "    print(\"Please terminate the VM manually via the Chameleon Web UI if needed.\")"
   ]
  },
  {
   "cell_type": "code",
   "execution_count": null,
   "id": "987de138-6eb3-48bc-a9da-a70ed2af21e8",
   "metadata": {},
   "outputs": [],
   "source": []
  }
 ],
 "metadata": {
  "kernelspec": {
   "display_name": "Python 3 (ipykernel)",
   "language": "python",
   "name": "python3"
  },
  "language_info": {
   "codemirror_mode": {
    "name": "ipython",
    "version": 3
   },
   "file_extension": ".py",
   "mimetype": "text/x-python",
   "name": "python",
   "nbconvert_exporter": "python",
   "pygments_lexer": "ipython3",
   "version": "3.10.9"
  }
 },
 "nbformat": 4,
 "nbformat_minor": 5
}
