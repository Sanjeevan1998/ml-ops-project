{
 "cells": [
  {
   "cell_type": "markdown",
   "id": "acdb9a8b-7656-41e4-a950-5b730fa283be",
   "metadata": {},
   "source": [
    "# Destroying all Resources"
   ]
  },
  {
   "cell_type": "code",
   "execution_count": 1,
   "id": "bdcf0f0b-b6a5-4c39-940a-9c122acd3d38",
   "metadata": {
    "tags": []
   },
   "outputs": [],
   "source": [
    "export PATH=/work/.local/bin:$PATH\n",
    "export PYTHONUSERBASE=/work/.local"
   ]
  },
  {
   "cell_type": "markdown",
   "id": "508c770e-7c59-460b-b4cf-a964cf546516",
   "metadata": {},
   "source": [
    "### Deleting All Resources on KVM@TACC"
   ]
  },
  {
   "cell_type": "code",
   "execution_count": null,
   "id": "46d26523-c57d-4bd3-8c54-f6b07533f604",
   "metadata": {},
   "outputs": [],
   "source": [
    "cd /work/code/terraform/kvm"
   ]
  },
  {
   "cell_type": "code",
   "execution_count": null,
   "id": "76013cd1-fd46-4174-a338-96803f894269",
   "metadata": {},
   "outputs": [],
   "source": [
    "terraform init"
   ]
  },
  {
   "cell_type": "code",
   "execution_count": null,
   "id": "ac789fd9-6cd5-4217-97c0-b2b76697ec86",
   "metadata": {},
   "outputs": [],
   "source": [
    "terraform destroy -auto-approve"
   ]
  }
 ],
 "metadata": {
  "kernelspec": {
   "display_name": "Bash",
   "language": "bash",
   "name": "bash"
  },
  "language_info": {
   "codemirror_mode": "shell",
   "file_extension": ".sh",
   "mimetype": "text/x-sh",
   "name": "bash"
  }
 },
 "nbformat": 4,
 "nbformat_minor": 5
}
