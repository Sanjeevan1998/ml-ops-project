{
 "cells": [
  {
   "cell_type": "markdown",
   "id": "acdb9a8b-7656-41e4-a950-5b730fa283be",
   "metadata": {},
   "source": [
    "# Destroying all Resources"
   ]
  },
  {
   "cell_type": "markdown",
   "id": "363cdc3a-1bcb-44c0-b9bf-cfa4b818f772",
   "metadata": {},
   "source": [
    "### Deleting Persistent Storage Block on CHI@UC"
   ]
  },
  {
   "cell_type": "code",
   "execution_count": 1,
   "id": "bdcf0f0b-b6a5-4c39-940a-9c122acd3d38",
   "metadata": {
    "tags": []
   },
   "outputs": [],
   "source": [
    "export PATH=/work/.local/bin:$PATH\n",
    "export PYTHONUSERBASE=/work/.local"
   ]
  },
  {
   "cell_type": "code",
   "execution_count": 2,
   "id": "c14b8b24-56b2-487d-bc4a-c0bac429d9d1",
   "metadata": {
    "tags": []
   },
   "outputs": [],
   "source": [
    "cd /work/code/terraform/chi"
   ]
  },
  {
   "cell_type": "code",
   "execution_count": 3,
   "id": "16ec522e-e5e7-4377-a233-82f2d9f659c7",
   "metadata": {
    "tags": []
   },
   "outputs": [
    {
     "name": "stdout",
     "output_type": "stream",
     "text": [
      "\u001b[0m\u001b[1mInitializing the backend...\u001b[0m\n",
      "\u001b[0m\u001b[1mInitializing provider plugins...\u001b[0m\n",
      "- Reusing previous version of terraform-provider-openstack/openstack from the dependency lock file\n",
      "- Using previously-installed terraform-provider-openstack/openstack v1.51.1\n",
      "\n",
      "\u001b[0m\u001b[1m\u001b[32mTerraform has been successfully initialized!\u001b[0m\u001b[32m\u001b[0m\n",
      "\u001b[0m\u001b[32m\n",
      "You may now begin working with Terraform. Try running \"terraform plan\" to see\n",
      "any changes that are required for your infrastructure. All Terraform commands\n",
      "should now work.\n",
      "\n",
      "If you ever set or change modules or backend configuration for Terraform,\n",
      "rerun this command to reinitialize your working directory. If you forget, other\n",
      "commands will detect it and remind you to do so if necessary.\u001b[0m\n"
     ]
    }
   ],
   "source": [
    "terraform init"
   ]
  },
  {
   "cell_type": "code",
   "execution_count": 4,
   "id": "b7fbb5d2-a575-4276-8b4c-a19acbaeaf9f",
   "metadata": {
    "tags": []
   },
   "outputs": [
    {
     "name": "stdout",
     "output_type": "stream",
     "text": [
      "\u001b[0m\u001b[1mopenstack_objectstorage_container_v1.swift: Refreshing state... [id=object-store-persists-group36]\u001b[0m\n",
      "\n",
      "Terraform used the selected providers to generate the following execution plan.\n",
      "Resource actions are indicated with the following symbols:\n",
      "  \u001b[31m-\u001b[0m destroy\u001b[0m\n",
      "\n",
      "Terraform will perform the following actions:\n",
      "\n",
      "\u001b[1m  # openstack_objectstorage_container_v1.swift\u001b[0m will be \u001b[1m\u001b[31mdestroyed\u001b[0m\n",
      "\u001b[0m  \u001b[31m-\u001b[0m\u001b[0m resource \"openstack_objectstorage_container_v1\" \"swift\" {\n",
      "      \u001b[31m-\u001b[0m\u001b[0m force_destroy  = false \u001b[90m-> null\u001b[0m\u001b[0m\n",
      "      \u001b[31m-\u001b[0m\u001b[0m id             = \"object-store-persists-group36\" \u001b[90m-> null\u001b[0m\u001b[0m\n",
      "      \u001b[31m-\u001b[0m\u001b[0m name           = \"object-store-persists-group36\" \u001b[90m-> null\u001b[0m\u001b[0m\n",
      "      \u001b[31m-\u001b[0m\u001b[0m region         = \"CHI@UC\" \u001b[90m-> null\u001b[0m\u001b[0m\n",
      "      \u001b[31m-\u001b[0m\u001b[0m storage_policy = \"default-placement\" \u001b[90m-> null\u001b[0m\u001b[0m\n",
      "      \u001b[31m-\u001b[0m\u001b[0m versioning     = false \u001b[90m-> null\u001b[0m\u001b[0m\n",
      "    }\n",
      "\n",
      "\u001b[1mPlan:\u001b[0m 0 to add, 0 to change, 1 to destroy.\n",
      "\u001b[0m\u001b[0m\u001b[1mopenstack_objectstorage_container_v1.swift: Destroying... [id=object-store-persists-group36]\u001b[0m\u001b[0m\n",
      "\u001b[0m\u001b[1mopenstack_objectstorage_container_v1.swift: Destruction complete after 1s\u001b[0m\n",
      "\u001b[0m\u001b[1m\u001b[32m\n",
      "Destroy complete! Resources: 1 destroyed.\n",
      "\u001b[0m\n"
     ]
    }
   ],
   "source": [
    "terraform destroy -auto-approve"
   ]
  },
  {
   "cell_type": "markdown",
   "id": "508c770e-7c59-460b-b4cf-a964cf546516",
   "metadata": {},
   "source": [
    "### Deleting Persistent Storage Block on KVM@TACC"
   ]
  },
  {
   "cell_type": "code",
   "execution_count": null,
   "id": "46d26523-c57d-4bd3-8c54-f6b07533f604",
   "metadata": {},
   "outputs": [],
   "source": [
    "cd /work/code/terraform/kvm"
   ]
  },
  {
   "cell_type": "code",
   "execution_count": null,
   "id": "76013cd1-fd46-4174-a338-96803f894269",
   "metadata": {},
   "outputs": [],
   "source": [
    "terraform init"
   ]
  },
  {
   "cell_type": "code",
   "execution_count": null,
   "id": "ac789fd9-6cd5-4217-97c0-b2b76697ec86",
   "metadata": {},
   "outputs": [],
   "source": [
    "terraform destroy -auto-approve"
   ]
  }
 ],
 "metadata": {
  "kernelspec": {
   "display_name": "Bash",
   "language": "bash",
   "name": "bash"
  },
  "language_info": {
   "codemirror_mode": "shell",
   "file_extension": ".sh",
   "mimetype": "text/x-sh",
   "name": "bash"
  }
 },
 "nbformat": 4,
 "nbformat_minor": 5
}
