{
 "cells": [
  {
   "cell_type": "markdown",
   "id": "d5ee9671",
   "metadata": {},
   "source": [
    "# Building Environments"
   ]
  },
  {
   "cell_type": "markdown",
   "id": "656a7b32",
   "metadata": {},
   "source": [
    "Our Product will be having three Environments Staging, Canary and Production. The each new version of our Model will flow along the same cycle it wiil get promoted"
   ]
  },
  {
   "cell_type": "markdown",
   "id": "d3d296bb",
   "metadata": {},
   "source": [
    "We will first Setup Argo workflows which will perform the following tasks for the Development Task\n",
    "- Build Initial Model\n",
    "\n",
    "For the subsequent update Phases we will follow\n",
    "- Train Model\n",
    "- Build Container\n",
    "- Deploy Container\n",
    "- Promote Model"
   ]
  },
  {
   "cell_type": "code",
   "execution_count": null,
   "id": "44fbf48f",
   "metadata": {
    "vscode": {
     "languageId": "plaintext"
    }
   },
   "outputs": [],
   "source": [
    "export PATH=/work/.local/bin:$PATH\n",
    "export PYTHONUSERBASE=/work/.local"
   ]
  },
  {
   "cell_type": "markdown",
   "id": "68955248",
   "metadata": {},
   "source": [
    "### Create the Build Model Workflow"
   ]
  },
  {
   "cell_type": "code",
   "execution_count": null,
   "id": "0c84243e",
   "metadata": {
    "vscode": {
     "languageId": "plaintext"
    }
   },
   "outputs": [],
   "source": [
    "cd /work/code/ansible\n",
    "ansible-playbook -i inventory.yml argocd/workflow_build_init.yml"
   ]
  },
  {
   "cell_type": "markdown",
   "id": "dd0b18ba",
   "metadata": {},
   "source": [
    "### Create the Workflows for Updating an existing Model on Higher Environment"
   ]
  },
  {
   "cell_type": "code",
   "execution_count": null,
   "id": "20d2257c",
   "metadata": {
    "vscode": {
     "languageId": "plaintext"
    }
   },
   "outputs": [],
   "source": [
    "cd /work/code/ansible\n",
    "ansible-playbook -i inventory.yml argocd/workflow_templates_apply.yml"
   ]
  },
  {
   "cell_type": "markdown",
   "id": "6873c1cf",
   "metadata": {},
   "source": [
    "### Create all Environments"
   ]
  },
  {
   "cell_type": "markdown",
   "id": "7e00a1ae",
   "metadata": {},
   "source": [
    "Initially the first model will get deployed across all Environments"
   ]
  },
  {
   "cell_type": "code",
   "execution_count": null,
   "id": "0b83edce",
   "metadata": {
    "vscode": {
     "languageId": "plaintext"
    }
   },
   "outputs": [],
   "source": [
    "cd /work/gourmetgram-iac/ansible\n",
    "ansible-playbook -i inventory.yml argocd/argocd_add_staging.yml\n",
    "ansible-playbook -i inventory.yml argocd/argocd_add_canary.yml\n",
    "ansible-playbook -i inventory.yml argocd/argocd_add_prod.yml"
   ]
  }
 ],
 "metadata": {
  "language_info": {
   "name": "python"
  }
 },
 "nbformat": 4,
 "nbformat_minor": 5
}
