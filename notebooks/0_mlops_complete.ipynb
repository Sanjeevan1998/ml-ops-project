{
 "cells": [
  {
   "cell_type": "code",
   "execution_count": 1,
   "metadata": {
    "tags": []
   },
   "outputs": [
    {
     "data": {
      "application/vnd.jupyter.widget-view+json": {
       "model_id": "38121dcff47b46d3bf28e95b877dfafa",
       "version_major": 2,
       "version_minor": 0
      },
      "text/plain": [
       "VBox(children=(Dropdown(description='Select Project', options=('CHI-251409',), value='CHI-251409'), Output()))"
      ]
     },
     "metadata": {},
     "output_type": "display_data"
    },
    {
     "data": {
      "application/vnd.jupyter.widget-view+json": {
       "model_id": "4262a8694c7d46acbcd1090010f355df",
       "version_major": 2,
       "version_minor": 0
      },
      "text/plain": [
       "VBox(children=(Dropdown(description='Select Site', index=7, options=('CHI@TACC', 'CHI@UC', 'CHI@EVL', 'CHI@NCA…"
      ]
     },
     "metadata": {},
     "output_type": "display_data"
    }
   ],
   "source": [
    "# runs in Chameleon Jupyter environment\n",
    "from chi import server, context\n",
    "\n",
    "context.version = \"1.0\" \n",
    "context.choose_project()\n",
    "context.choose_site(default=\"KVM@TACC\")"
   ]
  },
  {
   "cell_type": "code",
   "execution_count": 2,
   "metadata": {
    "tags": []
   },
   "outputs": [
    {
     "data": {
      "text/plain": [
       "<Keypair: trovi-2e3c825>"
      ]
     },
     "execution_count": 2,
     "metadata": {},
     "output_type": "execute_result"
    }
   ],
   "source": [
    "# runs in Chameleon Jupyter environment\n",
    "server.update_keypair()"
   ]
  },
  {
   "cell_type": "code",
   "execution_count": null,
   "metadata": {},
   "outputs": [],
   "source": [
    "# runs in Chameleon Jupyter environment\n",
    "git clone --recurse-submodules https://github.com/teaching-on-testbeds/gourmetgram-iac.git /work/gourmetgram-iac\n",
    "\n",
    "git clone https://github.com/vishwaskarale83/ml-ops-project.git -b main-ansible /work/mlops-code-iac\n",
    "\n",
    "# Install Terraform\n",
    "\n",
    "mkdir -p /work/.local/bin\n",
    "wget https://releases.hashicorp.com/terraform/1.10.5/terraform_1.10.5_linux_amd64.zip\n",
    "unzip -o -q terraform_1.10.5_linux_amd64.zip\n",
    "mv terraform /work/.local/bin\n",
    "rm terraform_1.10.5_linux_amd64.zip\n",
    "\n",
    "export PATH=/work/.local/bin:$PATH\n",
    "\n",
    "cp clouds.yaml /work/mlops-code-iac/terraform/kvm/clouds.yaml\n",
    "\n",
    "PYTHONUSERBASE=/work/.local pip install --user ansible-core==2.16.9 ansible==9.8.0\n",
    "\n",
    "export PATH=/work/.local/bin:$PATH\n",
    "export PYTHONUSERBASE=/work/.local\n",
    "\n",
    "ansible-playbook --help\n",
    "\n",
    "cp ansible.cfg /work/gourmetgram-iac/ansible/ansible.cfg\n",
    "cp ansible.cfg /work/mlops-code-iac/ansible/ansible.cfg\n",
    "\n",
    "export PATH=/work/.local/bin:$PATH\n",
    "export PYTHONUSERBASE=/work/.local\n",
    "\n",
    "PYTHONUSERBASE=/work/.local pip install --user -r /work/gourmetgram-iac/ansible/k8s/kubespray/requirements.txt"
   ]
  },
  {
   "cell_type": "code",
   "execution_count": null,
   "metadata": {},
   "outputs": [],
   "source": [
    "cd /work/mlops-code-iac/terraform/kvm\n",
    "\n",
    "export PATH=/work/.local/bin:$PATH\n",
    "\n",
    "unset $(set | grep -o \"^OS_[A-Za-z0-9_]*\")\n",
    "\n",
    "terraform init\n",
    "\n",
    "export TF_VAR_suffix=group36\n",
    "export TF_VAR_key=id_rsa_chameleon\n",
    "\n",
    "terraform validate\n",
    "\n",
    "terraform plan\n",
    "\n",
    "terraform apply -auto-approvecd /work/mlops-code-iac/terraform/kvm\n",
    "\n",
    "export PATH=/work/.local/bin:$PATH\n",
    "\n",
    "unset $(set | grep -o \"^OS_[A-Za-z0-9_]*\")\n",
    "\n",
    "terraform init\n",
    "\n",
    "export TF_VAR_suffix=group36\n",
    "export TF_VAR_key=id_rsa_chameleon\n",
    "\n",
    "terraform validate\n",
    "\n",
    "terraform plan\n",
    "\n",
    "terraform apply -auto-approve"
   ]
  },
  {
   "cell_type": "code",
   "execution_count": null,
   "metadata": {},
   "outputs": [],
   "source": [
    "export PATH=/work/.local/bin:$PATH\n",
    "export PYTHONUSERBASE=/work/.local\n",
    "\n",
    "cat /work/mlops-code-iac/ansible/ansible.cfg\n",
    "\n",
    "cd /work/mlops-code-iac/ansible\n",
    "\n",
    "ansible -i inventory.yml all -m ping\n",
    "\n",
    "ansible-playbook -i inventory.yml general/hello_host.yml\n",
    "\n",
    "export PATH=/work/.local/bin:$PATH\n",
    "export PYTHONUSERBASE=/work/.local\n",
    "\n",
    "cd /work/mlops-code-iac/ansible\n",
    "ansible-playbook -i inventory.yml pre_k8s/pre_k8s_configure.yml\n",
    "\n",
    "export ANSIBLE_CONFIG=/work/gourmetgram-iac/ansible/ansible.cfg\n",
    "export ANSIBLE_ROLES_PATH=roles\n",
    "\n",
    "cd /work/gourmetgram-iac/ansible/k8s/kubespray\n",
    "ansible-playbook -i ../inventory/mycluster --become --become-user=root ./cluster.yml\n",
    "\n",
    "cd /work/gourmetgram-iac/ansible\n",
    "ansible-playbook -i inventory.yml post_k8s/post_k8s_configure.yml\n",
    "\n",
    "ansible-playbook -i inventory.yml argocd/argocd_add_platform.yml"
   ]
  }
 ],
 "metadata": {
  "kernelspec": {
   "display_name": "Python 3 (ipykernel)",
   "language": "python",
   "name": "python3"
  },
  "language_info": {
   "codemirror_mode": {
    "name": "ipython",
    "version": 3
   },
   "file_extension": ".py",
   "mimetype": "text/x-python",
   "name": "python",
   "nbconvert_exporter": "python",
   "pygments_lexer": "ipython3",
   "version": "3.10.9"
  }
 },
 "nbformat": 4,
 "nbformat_minor": 4
}
