{
 "cells": [
  {
   "cell_type": "markdown",
   "id": "72f5a577",
   "metadata": {},
   "source": [
    "### Provisioning KVM@TACC Resources\n",
    "\n",
    "In this experiment we will be only having Block Store as the persistent Storage Resource which will be needed throughout the experiment as well we will be using a Kubernetes Cluster which will be running as part of the KVM@TACC on single node which will have all containers running\n",
    "\n",
    "![image](../../images/kvm-setup.png)"
   ]
  },
  {
   "cell_type": "code",
   "execution_count": null,
   "id": "479b8314",
   "metadata": {
    "vscode": {
     "languageId": "plaintext"
    }
   },
   "outputs": [],
   "source": [
    "export PATH=/work/.local/bin:$PATH\n",
    "export PYTHONUSERBASE=/work/.local"
   ]
  },
  {
   "cell_type": "markdown",
   "id": "d98727f5",
   "metadata": {},
   "source": [
    "Setting Openstack Environment to KVM@TACC"
   ]
  },
  {
   "cell_type": "code",
   "execution_count": null,
   "id": "a1b0d5d9",
   "metadata": {
    "vscode": {
     "languageId": "plaintext"
    }
   },
   "outputs": [],
   "source": [
    "export OS_REGION_NAME=\"KVM@TACC\"\n",
    "export OS_AUTH_URL=\"https://kvm.tacc.chameleoncloud.org:5000/v3\""
   ]
  },
  {
   "cell_type": "code",
   "execution_count": null,
   "id": "ab696152",
   "metadata": {
    "vscode": {
     "languageId": "plaintext"
    }
   },
   "outputs": [],
   "source": [
    "cd /work/code/terraform/kvm\n",
    "sed -i 's/APPLICATION_CREDENTIAL_ID/YOUR_APPLICATION_CREDENTIAL_ID/g' clouds.yaml\n",
    "sed -i 's/APPLICATION_CREDENTIAL_SECRET/YOUR_APPLICATION_CREDENTIAL_SECRET/g' clouds.yaml\n",
    "cat clouds.yaml"
   ]
  },
  {
   "cell_type": "code",
   "execution_count": null,
   "id": "059db580",
   "metadata": {
    "vscode": {
     "languageId": "plaintext"
    }
   },
   "outputs": [],
   "source": [
    "terraform init"
   ]
  },
  {
   "cell_type": "code",
   "execution_count": null,
   "id": "bd22b8dc",
   "metadata": {
    "vscode": {
     "languageId": "plaintext"
    }
   },
   "outputs": [],
   "source": [
    "terraform plan"
   ]
  },
  {
   "cell_type": "code",
   "execution_count": null,
   "id": "1379423c",
   "metadata": {
    "vscode": {
     "languageId": "plaintext"
    }
   },
   "outputs": [],
   "source": [
    "terraform apply -auto-approve"
   ]
  },
  {
   "cell_type": "markdown",
   "id": "eed04488",
   "metadata": {},
   "source": [
    "### Installing Ansible"
   ]
  },
  {
   "cell_type": "code",
   "execution_count": null,
   "id": "7f1e9854",
   "metadata": {
    "vscode": {
     "languageId": "plaintext"
    }
   },
   "outputs": [],
   "source": [
    "PYTHONUSERBASE=/work/.local pip install --user ansible-core==2.16.9 ansible==9.8.0 jmespath==1.0.1 jsonschema==4.23.0 netaddr==1.3.0"
   ]
  },
  {
   "cell_type": "markdown",
   "id": "286c689c",
   "metadata": {},
   "source": [
    "### Install Pre K8S - Configuration"
   ]
  },
  {
   "cell_type": "markdown",
   "id": "95b93de3",
   "metadata": {},
   "source": [
    "Update the Floating IP for SSH in the ansible Configuration file and verify it"
   ]
  },
  {
   "cell_type": "code",
   "execution_count": null,
   "id": "1bc81b47",
   "metadata": {
    "vscode": {
     "languageId": "plaintext"
    }
   },
   "outputs": [],
   "source": [
    "cd /work/code/ansible\n",
    "sed -i 's/A.B.C.D/FLOATING_IP/g' ansible.cfg\n",
    "cat ansible.cfg"
   ]
  },
  {
   "cell_type": "code",
   "execution_count": null,
   "id": "9a88d710",
   "metadata": {
    "vscode": {
     "languageId": "plaintext"
    }
   },
   "outputs": [],
   "source": [
    "cd /work/code/ansible\n",
    "ansible-playbook -i inventory.yml pre_k8s/pre_k8s_configure.yml"
   ]
  },
  {
   "cell_type": "markdown",
   "id": "af18741e",
   "metadata": {},
   "source": [
    "### Install K8S"
   ]
  },
  {
   "cell_type": "code",
   "execution_count": null,
   "id": "3d563243",
   "metadata": {
    "vscode": {
     "languageId": "plaintext"
    }
   },
   "outputs": [],
   "source": [
    "export ANSIBLE_CONFIG=/work/code/ansible/ansible.cfg\n",
    "export ANSIBLE_ROLES_PATH=roles"
   ]
  },
  {
   "cell_type": "code",
   "execution_count": null,
   "id": "47d6f97c",
   "metadata": {
    "vscode": {
     "languageId": "plaintext"
    }
   },
   "outputs": [],
   "source": [
    "cd /work/code/ansible/k8s/kubespray\n",
    "ansible-playbook -i ../inventory/mycluster --become --become-user=root ./cluster.yml"
   ]
  },
  {
   "cell_type": "markdown",
   "id": "45ae67ee",
   "metadata": {},
   "source": [
    "### Post Install Configuration"
   ]
  },
  {
   "cell_type": "code",
   "execution_count": null,
   "id": "49ae18a4",
   "metadata": {
    "vscode": {
     "languageId": "plaintext"
    }
   },
   "outputs": [],
   "source": [
    "cd /work/code/ansible\n",
    "ansible-playbook -i inventory.yml post_k8s/post_k8s_configure.yml"
   ]
  },
  {
   "cell_type": "markdown",
   "id": "054c38ac",
   "metadata": {},
   "source": [
    "### Installing Platform"
   ]
  },
  {
   "cell_type": "markdown",
   "id": "2a218eb9",
   "metadata": {},
   "source": [
    "Installing Platform will install MinIO and MLFlow"
   ]
  },
  {
   "cell_type": "code",
   "execution_count": null,
   "id": "dd216866",
   "metadata": {
    "vscode": {
     "languageId": "plaintext"
    }
   },
   "outputs": [],
   "source": [
    "cd /work/code/ansible\n",
    "ansible-playbook -i inventory.yml argocd/argocd_add_platform.yml"
   ]
  },
  {
   "cell_type": "markdown",
   "id": "19a0a38c",
   "metadata": {},
   "source": [
    "### Installing Monitoring Platform"
   ]
  },
  {
   "cell_type": "markdown",
   "id": "2e6818da",
   "metadata": {},
   "source": [
    "Installing Prometheus and Grafana for Monitoring and Alerting"
   ]
  },
  {
   "cell_type": "code",
   "execution_count": null,
   "id": "83ae1892",
   "metadata": {
    "vscode": {
     "languageId": "plaintext"
    }
   },
   "outputs": [],
   "source": [
    "cd /work/code/ansible\n",
    "ansible-playbook -i inventory.yml argocd/argocd_add_monitoring.yml"
   ]
  },
  {
   "cell_type": "markdown",
   "id": "727fd014",
   "metadata": {},
   "source": [
    "We will finally have the following services deployed\n",
    "![image2](../../images/k8s-setup.png)"
   ]
  }
 ],
 "metadata": {
  "language_info": {
   "name": "python"
  }
 },
 "nbformat": 4,
 "nbformat_minor": 5
}
