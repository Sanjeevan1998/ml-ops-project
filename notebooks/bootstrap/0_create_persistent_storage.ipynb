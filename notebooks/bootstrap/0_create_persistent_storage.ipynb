{
 "cells": [
  {
   "cell_type": "markdown",
   "id": "8f99afec-544f-4d99-866a-9940974ae14f",
   "metadata": {},
   "source": [
    "# Boostrapping the Initial Infrastucture"
   ]
  },
  {
   "cell_type": "markdown",
   "id": "f71c7e98-058e-4595-8e5e-eded2b68bed4",
   "metadata": {},
   "source": [
    "Before we begin anything we need to Start creating the intial needed Infrasture we will be needing throughout our Project. Some of the Resources we need will be created and destroyed as and when needed but some resources will be persisted through-out the Project"
   ]
  },
  {
   "cell_type": "markdown",
   "id": "44c0779e-771e-45c6-a590-08303cdcf3a2",
   "metadata": {},
   "source": [
    "## Clone the Repository\n",
    "\n",
    "We need to ensure the Kubespray submodule cloned is same as the one used in Lab 3 else we run into Storage Issue"
   ]
  },
  {
   "cell_type": "code",
   "execution_count": null,
   "id": "0f44ebf4-c6cc-4001-91db-106604ebd363",
   "metadata": {
    "tags": []
   },
   "outputs": [],
   "source": [
    "git clone --recurse-submodules https://github.com/Sanjeevan1998/ml-ops-project.git /work/code\n",
    "cd /work/code/ansible/k8s/kubespray\n",
    "git checkout 184b15f8aef4eba40c7433f509b0659b7b66fa44\n",
    "cd /work"
   ]
  },
  {
   "cell_type": "markdown",
   "id": "ba46db97-8dc5-487c-9e9a-345cecbf83c2",
   "metadata": {},
   "source": [
    "## Installing required Tools"
   ]
  },
  {
   "cell_type": "markdown",
   "id": "7f2b1f41-1fa5-4078-a0d8-f8d205063c32",
   "metadata": {},
   "source": [
    "### Installing Terraform"
   ]
  },
  {
   "cell_type": "code",
   "execution_count": null,
   "id": "ba7bae4d-e82b-4ffc-918e-c2af23bb38ce",
   "metadata": {
    "tags": []
   },
   "outputs": [],
   "source": [
    "mkdir -p /work/.local/bin\n",
    "wget https://releases.hashicorp.com/terraform/1.2.9/terraform_1.2.9_linux_amd64.zip\n",
    "unzip -o -q terraform_1.2.9_linux_amd64.zip\n",
    "mv terraform /work/.local/bin\n",
    "rm terraform_1.2.9_linux_amd64.zip"
   ]
  },
  {
   "cell_type": "markdown",
   "id": "5051a59c-6433-44da-8e62-59a5d55eb593",
   "metadata": {},
   "source": [
    "### Provisioning CHI@UC Persistent Resources\n",
    "\n",
    "In this experiment we will be only having Swift Object Store as the persistent Storage Resource which will be needed throughout the experiment\n",
    "\n",
    "![image](../../images/chi-setup.png)"
   ]
  },
  {
   "cell_type": "markdown",
   "id": "2dbd7368-9f31-4a2b-8cc1-edf08d28e3e2",
   "metadata": {},
   "source": [
    "#### Provide your CHI@UC Application Credential in Code block below\n",
    "After running this Cell verify your clouds.yaml file if it has the correct Application Credentials"
   ]
  },
  {
   "cell_type": "code",
   "execution_count": null,
   "id": "21772db3",
   "metadata": {
    "vscode": {
     "languageId": "plaintext"
    }
   },
   "outputs": [],
   "source": [
    "export OS_REGION_NAME=\"CHI@UC\"\n",
    "export OS_AUTH_URL=\"https://chi.uc.chameleoncloud.org:5000/v3\""
   ]
  },
  {
   "cell_type": "code",
   "execution_count": null,
   "id": "238c7ae7",
   "metadata": {
    "tags": []
   },
   "outputs": [],
   "source": [
    "cd /work/code/terraform/chi\n",
    "sed -i 's/APPLICATION_CREDENTIAL_ID/YOUR_APPLICATION_CREDENTIAL_ID/g' clouds.yaml\n",
    "sed -i 's/APPLICATION_CREDENTIAL_SECRET/YOUR_APPLICATION_CREDENTIAL_SECRET/g' clouds.yaml\n",
    "cat clouds.yaml"
   ]
  },
  {
   "cell_type": "code",
   "execution_count": null,
   "id": "74285825-fa4f-4b15-866b-97e9144b36c4",
   "metadata": {
    "tags": []
   },
   "outputs": [],
   "source": [
    "terraform -v"
   ]
  },
  {
   "cell_type": "code",
   "execution_count": null,
   "id": "c39cd707-5307-4a75-86f1-beb60bf5638f",
   "metadata": {
    "tags": []
   },
   "outputs": [],
   "source": [
    "terraform init"
   ]
  },
  {
   "cell_type": "code",
   "execution_count": null,
   "id": "6b87a776-daac-4f3b-8c0f-8c6385078710",
   "metadata": {
    "tags": []
   },
   "outputs": [],
   "source": [
    "terraform plan"
   ]
  },
  {
   "cell_type": "code",
   "execution_count": null,
   "id": "546f59d9-28a6-4ee6-8f25-192d2ee1f3ff",
   "metadata": {
    "tags": []
   },
   "outputs": [],
   "source": [
    "terraform apply -auto-approve"
   ]
  }
 ],
 "metadata": {
  "kernelspec": {
   "display_name": "Bash",
   "language": "bash",
   "name": "bash"
  },
  "language_info": {
   "codemirror_mode": "shell",
   "file_extension": ".sh",
   "mimetype": "text/x-sh",
   "name": "bash"
  }
 },
 "nbformat": 4,
 "nbformat_minor": 5
}
