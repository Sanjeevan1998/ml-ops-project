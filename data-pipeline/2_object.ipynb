{
 "cells": [
  {
   "cell_type": "markdown",
   "metadata": {},
   "source": [
    "## Using object storage\n",
    "\n",
    "Until now, in any experiment we have run on Chameleon, we had to re-download large training sets each time we launched a new compute instance to work on that data. For example, in our “GourmetGram” use case, we had to re-download the Food11 dataset each time we brought up a compute instance to train or evaluate a model on that data.\n",
    "\n",
    "For a longer-term project, we will want to persist large data sets beyond the lifetime of the compute instance. That way, we can download a very large data set *once* and then re-use it many times with different compute instances, without having to keep a compute instance “alive” all the time, or re-download the data. We will use the object storage service in Chameleon to enable this.\n",
    "\n",
    "Of the various types of storage available in a cloud computing environment (object, block, file), object storage is the most appropriate for large training data sets. Object storage is cheap, and optimized for storing and retrieving large volumes of data, where the data is not modified frequently. (In object storage, there is no in-place modification of objects - only replacement - so it is not the best solution for files that are frequently modified.)\n",
    "\n",
    "After you run this experiment, you will know how to:\n",
    "\n",
    "-   create an object store container at CHI@TACC\n",
    "-   copy objects to it,\n",
    "-   and mount it as a filesystem in a compute instance.\n",
    "\n",
    "The object storage service is available at CHI@TACC or CHI@UC. In this tutorial, we will use CHI@TACC. The CHI@TACC object store can be accessed from a KVM@TACC VM instance."
   ]
  },
  {
   "cell_type": "markdown",
   "metadata": {},
   "source": [
    "### Use `rclone` and authenticate to object store from a compute instance\n",
    "\n",
    "On the compute instance, install `rclone`:\n",
    "\n",
    "``` bash\n",
    "# run on node-persist\n",
    "curl https://rclone.org/install.sh | sudo bash\n",
    "```\n",
    "\n",
    "We also need to modify the configuration file for FUSE (**F**ilesystem in **USE**rspace: the interface that allows user space applications to mount virtual filesystems), so that object store containers mounted by our user will be availabe to others, including Docker containers:\n",
    "\n",
    "``` bash\n",
    "# run on node-persist\n",
    "# this line makes sure user_allow_other is un-commented in /etc/fuse.conf\n",
    "sudo sed -i '/^#user_allow_other/s/^#//' /etc/fuse.conf\n",
    "```\n",
    "\n",
    "Next, create a configuration file for `rclone` with the ID and secret from the application credential you just generated:\n",
    "\n",
    "``` bash\n",
    "# run on node-persist\n",
    "mkdir -p ~/.config/rclone\n",
    "nano  ~/.config/rclone/rclone.conf\n",
    "```\n",
    "\n",
    "Paste the following into the config file, but substitute your own application credential ID and secret.\n",
    "\n",
    "You will also need to substitute your own user ID. You can find it using “Identity” \\> “Users” in the Horizon GUI; it is an alphanumeric string (*not* the human-readable user name).\n",
    "\n",
    "    [chi_uc]\n",
    "    type = swift\n",
    "    user_id = YOUR_USER_ID\n",
    "    application_credential_id = APP_CRED_ID\n",
    "    application_credential_secret = APP_CRED_SECRET\n",
    "    auth = https://chi.uc.chameleoncloud.org:5000/v3\n",
    "    region = CHI@UC\n",
    "\n",
    "Use Ctrl+O and Enter to save the file, and Ctrl+X to exit `nano`.\n",
    "\n",
    "To test it, run\n",
    "\n",
    "``` bash\n",
    "# run on node-persist\n",
    "rclone lsd chi_uc:\n",
    "```\n",
    "\n",
    "and verify that you see your container listed. This confirms that `rclone` can authenticate to the object store."
   ]
  },
  {
   "cell_type": "code",
   "execution_count": null,
   "metadata": {},
   "outputs": [],
   "source": []
  }
 ],
 "metadata": {
  "kernelspec": {
   "display_name": "Python 3 (ipykernel)",
   "language": "python",
   "name": "python3"
  },
  "language_info": {
   "codemirror_mode": {
    "name": "ipython",
    "version": 3
   },
   "file_extension": ".py",
   "mimetype": "text/x-python",
   "name": "python",
   "nbconvert_exporter": "python",
   "pygments_lexer": "ipython3",
   "version": "3.10.9"
  }
 },
 "nbformat": 4,
 "nbformat_minor": 4
}
